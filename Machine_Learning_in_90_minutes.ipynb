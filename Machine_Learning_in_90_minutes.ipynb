{
  "nbformat": 4,
  "nbformat_minor": 0,
  "metadata": {
    "kernelspec": {
      "display_name": "Python 3",
      "language": "python",
      "name": "python3"
    },
    "language_info": {
      "codemirror_mode": {
        "name": "ipython",
        "version": 3
      },
      "file_extension": ".py",
      "mimetype": "text/x-python",
      "name": "python",
      "nbconvert_exporter": "python",
      "pygments_lexer": "ipython3",
      "version": "3.7.6"
    },
    "colab": {
      "name": "Machine Learning in 90 minutes",
      "provenance": [],
      "collapsed_sections": []
    }
  },
  "cells": [
    {
      "cell_type": "code",
      "metadata": {
        "id": "mOO92Gzb6M1G"
      },
      "source": [
        "import pandas as pd\n",
        "import numpy as np"
      ],
      "execution_count": 1,
      "outputs": []
    },
    {
      "cell_type": "code",
      "metadata": {
        "id": "rPLYPINfP1_i"
      },
      "source": [
        "#!wget http://iali.in/datasets/Social_Network_Ads.csv #Download on Local"
      ],
      "execution_count": 2,
      "outputs": []
    },
    {
      "cell_type": "code",
      "metadata": {
        "id": "GZHPRUsN6M1L",
        "outputId": "4e5ebc2c-67db-4c9e-ba53-c5958a1c46be",
        "colab": {
          "base_uri": "https://localhost:8080/",
          "height": 195
        }
      },
      "source": [
        "ds=pd.read_csv(\"http://iali.in/datasets/Social_Network_Ads.csv\")\n",
        "ds.head()"
      ],
      "execution_count": 3,
      "outputs": [
        {
          "output_type": "execute_result",
          "data": {
            "text/html": [
              "<div>\n",
              "<style scoped>\n",
              "    .dataframe tbody tr th:only-of-type {\n",
              "        vertical-align: middle;\n",
              "    }\n",
              "\n",
              "    .dataframe tbody tr th {\n",
              "        vertical-align: top;\n",
              "    }\n",
              "\n",
              "    .dataframe thead th {\n",
              "        text-align: right;\n",
              "    }\n",
              "</style>\n",
              "<table border=\"1\" class=\"dataframe\">\n",
              "  <thead>\n",
              "    <tr style=\"text-align: right;\">\n",
              "      <th></th>\n",
              "      <th>User ID</th>\n",
              "      <th>Gender</th>\n",
              "      <th>Age</th>\n",
              "      <th>EstimatedSalary</th>\n",
              "      <th>Purchased</th>\n",
              "    </tr>\n",
              "  </thead>\n",
              "  <tbody>\n",
              "    <tr>\n",
              "      <th>0</th>\n",
              "      <td>15624510</td>\n",
              "      <td>Male</td>\n",
              "      <td>19</td>\n",
              "      <td>19000</td>\n",
              "      <td>0</td>\n",
              "    </tr>\n",
              "    <tr>\n",
              "      <th>1</th>\n",
              "      <td>15810944</td>\n",
              "      <td>Male</td>\n",
              "      <td>35</td>\n",
              "      <td>20000</td>\n",
              "      <td>0</td>\n",
              "    </tr>\n",
              "    <tr>\n",
              "      <th>2</th>\n",
              "      <td>15668575</td>\n",
              "      <td>Female</td>\n",
              "      <td>26</td>\n",
              "      <td>43000</td>\n",
              "      <td>0</td>\n",
              "    </tr>\n",
              "    <tr>\n",
              "      <th>3</th>\n",
              "      <td>15603246</td>\n",
              "      <td>Female</td>\n",
              "      <td>27</td>\n",
              "      <td>57000</td>\n",
              "      <td>0</td>\n",
              "    </tr>\n",
              "    <tr>\n",
              "      <th>4</th>\n",
              "      <td>15804002</td>\n",
              "      <td>Male</td>\n",
              "      <td>19</td>\n",
              "      <td>76000</td>\n",
              "      <td>0</td>\n",
              "    </tr>\n",
              "  </tbody>\n",
              "</table>\n",
              "</div>"
            ],
            "text/plain": [
              "    User ID  Gender  Age  EstimatedSalary  Purchased\n",
              "0  15624510    Male   19            19000          0\n",
              "1  15810944    Male   35            20000          0\n",
              "2  15668575  Female   26            43000          0\n",
              "3  15603246  Female   27            57000          0\n",
              "4  15804002    Male   19            76000          0"
            ]
          },
          "metadata": {
            "tags": []
          },
          "execution_count": 3
        }
      ]
    },
    {
      "cell_type": "code",
      "metadata": {
        "id": "J7ZMo-uq6M1O",
        "outputId": "c24552b3-8ff1-41af-96a3-40c2373adb70",
        "colab": {
          "base_uri": "https://localhost:8080/",
          "height": 34
        }
      },
      "source": [
        "ds['Purchased'].unique() #check if Classification or Regression!"
      ],
      "execution_count": 4,
      "outputs": [
        {
          "output_type": "execute_result",
          "data": {
            "text/plain": [
              "array([0, 1])"
            ]
          },
          "metadata": {
            "tags": []
          },
          "execution_count": 4
        }
      ]
    },
    {
      "cell_type": "markdown",
      "metadata": {
        "id": "BG7CYNQ96M1R"
      },
      "source": [
        "# Classification Problem\n",
        "### \"Purchased\" column has ony 2 unique values, so it is basically Binary Classification problem"
      ]
    },
    {
      "cell_type": "code",
      "metadata": {
        "id": "b0-_whVd6M1S",
        "outputId": "0ec1c847-8e39-4fd9-aa99-ed705e9302e9",
        "colab": {
          "base_uri": "https://localhost:8080/",
          "height": 118
        }
      },
      "source": [
        "ds.isnull().any() #check for null values"
      ],
      "execution_count": 6,
      "outputs": [
        {
          "output_type": "execute_result",
          "data": {
            "text/plain": [
              "User ID            False\n",
              "Gender             False\n",
              "Age                False\n",
              "EstimatedSalary    False\n",
              "Purchased          False\n",
              "dtype: bool"
            ]
          },
          "metadata": {
            "tags": []
          },
          "execution_count": 6
        }
      ]
    },
    {
      "cell_type": "code",
      "metadata": {
        "id": "K11-C4c_6M1U"
      },
      "source": [
        "# Label Encoding\n",
        "from sklearn.preprocessing import LabelEncoder\n",
        "le=LabelEncoder()\n",
        "\n",
        "#transforming non numerical labels (Gender) to numeric labels\n",
        "ds['Gender']=le.fit_transform(ds['Gender'])"
      ],
      "execution_count": 7,
      "outputs": []
    },
    {
      "cell_type": "code",
      "metadata": {
        "id": "4lLp5Yk_6M1W",
        "outputId": "230cdbd8-aa84-4b4f-a194-614431657e1a",
        "colab": {
          "base_uri": "https://localhost:8080/",
          "height": 343
        }
      },
      "source": [
        "ds.head(10)"
      ],
      "execution_count": 73,
      "outputs": [
        {
          "output_type": "execute_result",
          "data": {
            "text/html": [
              "<div>\n",
              "<style scoped>\n",
              "    .dataframe tbody tr th:only-of-type {\n",
              "        vertical-align: middle;\n",
              "    }\n",
              "\n",
              "    .dataframe tbody tr th {\n",
              "        vertical-align: top;\n",
              "    }\n",
              "\n",
              "    .dataframe thead th {\n",
              "        text-align: right;\n",
              "    }\n",
              "</style>\n",
              "<table border=\"1\" class=\"dataframe\">\n",
              "  <thead>\n",
              "    <tr style=\"text-align: right;\">\n",
              "      <th></th>\n",
              "      <th>User ID</th>\n",
              "      <th>Gender</th>\n",
              "      <th>Age</th>\n",
              "      <th>EstimatedSalary</th>\n",
              "      <th>Purchased</th>\n",
              "    </tr>\n",
              "  </thead>\n",
              "  <tbody>\n",
              "    <tr>\n",
              "      <th>0</th>\n",
              "      <td>15624510</td>\n",
              "      <td>1</td>\n",
              "      <td>19</td>\n",
              "      <td>19000</td>\n",
              "      <td>0</td>\n",
              "    </tr>\n",
              "    <tr>\n",
              "      <th>1</th>\n",
              "      <td>15810944</td>\n",
              "      <td>1</td>\n",
              "      <td>35</td>\n",
              "      <td>20000</td>\n",
              "      <td>0</td>\n",
              "    </tr>\n",
              "    <tr>\n",
              "      <th>2</th>\n",
              "      <td>15668575</td>\n",
              "      <td>0</td>\n",
              "      <td>26</td>\n",
              "      <td>43000</td>\n",
              "      <td>0</td>\n",
              "    </tr>\n",
              "    <tr>\n",
              "      <th>3</th>\n",
              "      <td>15603246</td>\n",
              "      <td>0</td>\n",
              "      <td>27</td>\n",
              "      <td>57000</td>\n",
              "      <td>0</td>\n",
              "    </tr>\n",
              "    <tr>\n",
              "      <th>4</th>\n",
              "      <td>15804002</td>\n",
              "      <td>1</td>\n",
              "      <td>19</td>\n",
              "      <td>76000</td>\n",
              "      <td>0</td>\n",
              "    </tr>\n",
              "    <tr>\n",
              "      <th>5</th>\n",
              "      <td>15728773</td>\n",
              "      <td>1</td>\n",
              "      <td>27</td>\n",
              "      <td>58000</td>\n",
              "      <td>0</td>\n",
              "    </tr>\n",
              "    <tr>\n",
              "      <th>6</th>\n",
              "      <td>15598044</td>\n",
              "      <td>0</td>\n",
              "      <td>27</td>\n",
              "      <td>84000</td>\n",
              "      <td>0</td>\n",
              "    </tr>\n",
              "    <tr>\n",
              "      <th>7</th>\n",
              "      <td>15694829</td>\n",
              "      <td>0</td>\n",
              "      <td>32</td>\n",
              "      <td>150000</td>\n",
              "      <td>1</td>\n",
              "    </tr>\n",
              "    <tr>\n",
              "      <th>8</th>\n",
              "      <td>15600575</td>\n",
              "      <td>1</td>\n",
              "      <td>25</td>\n",
              "      <td>33000</td>\n",
              "      <td>0</td>\n",
              "    </tr>\n",
              "    <tr>\n",
              "      <th>9</th>\n",
              "      <td>15727311</td>\n",
              "      <td>0</td>\n",
              "      <td>35</td>\n",
              "      <td>65000</td>\n",
              "      <td>0</td>\n",
              "    </tr>\n",
              "  </tbody>\n",
              "</table>\n",
              "</div>"
            ],
            "text/plain": [
              "    User ID  Gender  Age  EstimatedSalary  Purchased\n",
              "0  15624510       1   19            19000          0\n",
              "1  15810944       1   35            20000          0\n",
              "2  15668575       0   26            43000          0\n",
              "3  15603246       0   27            57000          0\n",
              "4  15804002       1   19            76000          0\n",
              "5  15728773       1   27            58000          0\n",
              "6  15598044       0   27            84000          0\n",
              "7  15694829       0   32           150000          1\n",
              "8  15600575       1   25            33000          0\n",
              "9  15727311       0   35            65000          0"
            ]
          },
          "metadata": {
            "tags": []
          },
          "execution_count": 73
        }
      ]
    },
    {
      "cell_type": "code",
      "metadata": {
        "id": "L0RyCH_X6M1a",
        "outputId": "df034c78-888f-4700-8e5d-3dc550426ae0",
        "colab": {
          "base_uri": "https://localhost:8080/",
          "height": 34
        }
      },
      "source": [
        "ds['Gender'].unique()\n",
        "# Only two unique values, so need of One Hot Encoding"
      ],
      "execution_count": 12,
      "outputs": [
        {
          "output_type": "execute_result",
          "data": {
            "text/plain": [
              "array([1, 0])"
            ]
          },
          "metadata": {
            "tags": []
          },
          "execution_count": 12
        }
      ]
    },
    {
      "cell_type": "code",
      "metadata": {
        "id": "xMl__5S96M1d"
      },
      "source": [
        "#we are seperating x and y values using iloc[]\n",
        "x=ds.iloc[:,1:4].values\n",
        "y=ds.iloc[:,4].values\n",
        "\n",
        "# iloc [ [Row_Start : Row_End] , [column-1, Colunm-2,column-n] ]"
      ],
      "execution_count": 13,
      "outputs": []
    },
    {
      "cell_type": "code",
      "metadata": {
        "id": "l7O5_b1rRTNi"
      },
      "source": [
        ""
      ],
      "execution_count": 53,
      "outputs": []
    },
    {
      "cell_type": "code",
      "metadata": {
        "id": "2JMYT6nF6M1g",
        "outputId": "c99e819b-70ad-4ce3-fbbc-5bdb14a4f732",
        "colab": {
          "base_uri": "https://localhost:8080/",
          "height": 34
        }
      },
      "source": [
        "x.shape"
      ],
      "execution_count": 14,
      "outputs": [
        {
          "output_type": "execute_result",
          "data": {
            "text/plain": [
              "(400, 3)"
            ]
          },
          "metadata": {
            "tags": []
          },
          "execution_count": 14
        }
      ]
    },
    {
      "cell_type": "code",
      "metadata": {
        "id": "9oTk_VNH6M1i",
        "outputId": "57d7c77c-05ec-4772-e42b-177e7932edfc",
        "colab": {
          "base_uri": "https://localhost:8080/",
          "height": 34
        }
      },
      "source": [
        "# Splitting the data\n",
        "from sklearn.model_selection import train_test_split\n",
        "x_train,x_test,y_train,y_test=train_test_split(x,y,test_size=0.2)\n",
        "x_train.shape"
      ],
      "execution_count": 15,
      "outputs": [
        {
          "output_type": "execute_result",
          "data": {
            "text/plain": [
              "(320, 3)"
            ]
          },
          "metadata": {
            "tags": []
          },
          "execution_count": 15
        }
      ]
    },
    {
      "cell_type": "markdown",
      "metadata": {
        "id": "hn3d9alwMkXC"
      },
      "source": [
        "## StandardScaler \n",
        "\n",
        " It transforms the data in such a manner that it has mean as 0 and standard deviation as 1. In short, it standardizes the data. Standardization is useful for data which has negative values. It arranges the data in a standard normal distribution."
      ]
    },
    {
      "cell_type": "markdown",
      "metadata": {
        "id": "Kap4QZ78v53Q"
      },
      "source": [
        "## let's verify this with an example;"
      ]
    },
    {
      "cell_type": "code",
      "metadata": {
        "id": "1Mizh2eXp0N7",
        "outputId": "041b3949-b583-4a8f-d704-18c2eb6b16d7",
        "colab": {
          "base_uri": "https://localhost:8080/",
          "height": 151
        }
      },
      "source": [
        "from sklearn.preprocessing import StandardScaler\n",
        "import numpy as np\n",
        "\n",
        " #4 samples/observations and 2 variables/features\n",
        "data = np.array([[0,0] , [1,0] , [0,1] , [1,1]])\n",
        "scaler =StandardScaler()\n",
        "scaled_data = scaler.fit_transform(data)\n",
        "\n",
        "print(data)\n",
        "print(scaled_data)"
      ],
      "execution_count": 16,
      "outputs": [
        {
          "output_type": "stream",
          "text": [
            "[[0 0]\n",
            " [1 0]\n",
            " [0 1]\n",
            " [1 1]]\n",
            "[[-1. -1.]\n",
            " [ 1. -1.]\n",
            " [-1.  1.]\n",
            " [ 1.  1.]]\n"
          ],
          "name": "stdout"
        }
      ]
    },
    {
      "cell_type": "code",
      "metadata": {
        "id": "7XWHanafrp7N",
        "outputId": "244f74f4-a216-4ab0-de9d-667a29932de1",
        "colab": {
          "base_uri": "https://localhost:8080/",
          "height": 34
        }
      },
      "source": [
        "#Verify that the mean of each feature (column) is 0:\n",
        "scaled_data.mean(axis=0)\n"
      ],
      "execution_count": 17,
      "outputs": [
        {
          "output_type": "execute_result",
          "data": {
            "text/plain": [
              "array([0., 0.])"
            ]
          },
          "metadata": {
            "tags": []
          },
          "execution_count": 17
        }
      ]
    },
    {
      "cell_type": "code",
      "metadata": {
        "id": "Un0rRcukrxvs",
        "outputId": "f0b9328e-fec8-447d-d4ee-0721099e0e22",
        "colab": {
          "base_uri": "https://localhost:8080/",
          "height": 34
        }
      },
      "source": [
        "#Verify that the std of each feature (column) is 1:\n",
        "scaled_data.std(axis=0)\n"
      ],
      "execution_count": 18,
      "outputs": [
        {
          "output_type": "execute_result",
          "data": {
            "text/plain": [
              "array([1., 1.])"
            ]
          },
          "metadata": {
            "tags": []
          },
          "execution_count": 18
        }
      ]
    },
    {
      "cell_type": "code",
      "metadata": {
        "id": "HEVT7n3_6M1k"
      },
      "source": [
        "# Feature Scaling\n",
        "from sklearn.preprocessing import StandardScaler\n",
        "sc=StandardScaler()\n",
        "x_train=sc.fit_transform(x_train)\n",
        "x_test=sc.fit_transform(x_test)"
      ],
      "execution_count": 19,
      "outputs": []
    },
    {
      "cell_type": "code",
      "metadata": {
        "id": "wH8GoFXb6M1m",
        "outputId": "6f82ddb4-47e4-44ce-8cc1-708f928d9df0",
        "colab": {
          "base_uri": "https://localhost:8080/",
          "height": 118
        }
      },
      "source": [
        "# Training the model using Decision Tree Classifier\n",
        "from sklearn.tree import DecisionTreeClassifier\n",
        "dtc=DecisionTreeClassifier(criterion='entropy',random_state=0)\n",
        "dtc.fit(x_train,y_train)"
      ],
      "execution_count": 20,
      "outputs": [
        {
          "output_type": "execute_result",
          "data": {
            "text/plain": [
              "DecisionTreeClassifier(ccp_alpha=0.0, class_weight=None, criterion='entropy',\n",
              "                       max_depth=None, max_features=None, max_leaf_nodes=None,\n",
              "                       min_impurity_decrease=0.0, min_impurity_split=None,\n",
              "                       min_samples_leaf=1, min_samples_split=2,\n",
              "                       min_weight_fraction_leaf=0.0, presort='deprecated',\n",
              "                       random_state=0, splitter='best')"
            ]
          },
          "metadata": {
            "tags": []
          },
          "execution_count": 20
        }
      ]
    },
    {
      "cell_type": "code",
      "metadata": {
        "id": "IWHh21i06M1o"
      },
      "source": [
        "y_pred=dtc.predict(x_test)"
      ],
      "execution_count": 21,
      "outputs": []
    },
    {
      "cell_type": "code",
      "metadata": {
        "id": "ERxfMfMF6M1v",
        "outputId": "4af56083-001e-48cf-a1b8-b74ff9d2cbcb",
        "colab": {
          "base_uri": "https://localhost:8080/",
          "height": 34
        }
      },
      "source": [
        "# Getting the Accuracy Score\n",
        "from sklearn.metrics import accuracy_score\n",
        "accuracy_score(y_test,y_pred)"
      ],
      "execution_count": 22,
      "outputs": [
        {
          "output_type": "execute_result",
          "data": {
            "text/plain": [
              "0.875"
            ]
          },
          "metadata": {
            "tags": []
          },
          "execution_count": 22
        }
      ]
    },
    {
      "cell_type": "code",
      "metadata": {
        "id": "hV-Mangp6M1x",
        "outputId": "3c61d6a0-2f3a-4895-c6ef-80356ff074f5",
        "colab": {
          "base_uri": "https://localhost:8080/",
          "height": 529
        }
      },
      "source": [
        "labels = [\"Not Purchased\", \"Purhased\"]\n",
        "# Confusion Matrix\n",
        "from sklearn.metrics import confusion_matrix\n",
        "import seaborn as sns\n",
        "import matplotlib.pyplot as plt\n",
        "\n",
        "\n",
        "df_cm = pd.DataFrame(confusion_matrix(y_test,y_pred), columns=labels, index= labels)\n",
        "df_cm.index.name ='Predicted'\n",
        "df_cm.columns.name = 'Actual'\n",
        "plt.figure(figsize = (10,7))\n",
        "sns.set(font_scale=1.4)#for label size\n",
        "sns.heatmap(df_cm, cmap=\"Wistia\", annot=True,annot_kws={\"size\": 17})"
      ],
      "execution_count": 23,
      "outputs": [
        {
          "output_type": "stream",
          "text": [
            "/usr/local/lib/python3.6/dist-packages/statsmodels/tools/_testing.py:19: FutureWarning: pandas.util.testing is deprecated. Use the functions in the public API at pandas.testing instead.\n",
            "  import pandas.util.testing as tm\n"
          ],
          "name": "stderr"
        },
        {
          "output_type": "execute_result",
          "data": {
            "text/plain": [
              "<matplotlib.axes._subplots.AxesSubplot at 0x7f69db58b0b8>"
            ]
          },
          "metadata": {
            "tags": []
          },
          "execution_count": 23
        },
        {
          "output_type": "display_data",
          "data": {
            "image/png": "[encoded data removed]",
            "text/plain": [
              "<Figure size 720x504 with 2 Axes>"
            ]
          },
          "metadata": {
            "tags": [],
            "needs_background": "light"
          }
        }
      ]
    },
    {
      "cell_type": "markdown",
      "metadata": {
        "id": "Lqzq8xhfNAtX"
      },
      "source": [
        "## ROC Curve\n",
        "Receiver Operating Characteristic curve. It is nothing but a graph displaying the performance of a classification model. It is a very popular method to measure the accuracy of a classification model.\n",
        "\n",
        "**(Note: this implementation is restricted to the binary classification task.)"
      ]
    },
    {
      "cell_type": "markdown",
      "metadata": {
        "id": "AkLDmstNPc60"
      },
      "source": [
        "The ROC curve is created by plotting the true positive rate (TPR) against the false positive rate (FPR) at various threshold settings."
      ]
    },
    {
      "cell_type": "code",
      "metadata": {
        "id": "jn3dhMJx6M1z"
      },
      "source": [
        "# Getting the roc\n",
        "import sklearn.metrics as metrics   # to measure classification performance.\n",
        "fpr,tpr,threshold=metrics.roc_curve(y_test,y_pred)\n",
        "roc_auc=metrics.auc(fpr,tpr)"
      ],
      "execution_count": 27,
      "outputs": []
    },
    {
      "cell_type": "code",
      "metadata": {
        "id": "7otPoBU76M11",
        "outputId": "81110ee0-c153-4ba6-ba30-d795743c83cf",
        "colab": {
          "base_uri": "https://localhost:8080/",
          "height": 332
        }
      },
      "source": [
        "# Plotting the roc-auc curve\n",
        "import matplotlib.pyplot as plt\n",
        "plt.title(\"roc\")\n",
        "plt.plot(fpr,tpr,'b',label=\"auc=%0.2f\"%roc_auc)\n",
        "plt.legend(loc=\"lower right\") #automatically creates a legend for labeled plot elements\n",
        "plt.plot([0,1],[0,1],\"r--\")\n",
        "plt.xlim([0,1])  #Get or set the x limits of the current axes.\n",
        "plt.ylim([0,1])  #Get or set the y limits of the current axes.\n",
        "plt.ylabel(\"tpr\")\n",
        "plt.xlabel(\"fpr\")"
      ],
      "execution_count": 28,
      "outputs": [
        {
          "output_type": "execute_result",
          "data": {
            "text/plain": [
              "Text(0.5, 0, 'fpr')"
            ]
          },
          "metadata": {
            "tags": []
          },
          "execution_count": 28
        },
        {
          "output_type": "display_data",
          "data": {
            "image/png": "[encoded data removed]",
            "text/plain": [
              "<Figure size 432x288 with 1 Axes>"
            ]
          },
          "metadata": {
            "tags": []
          }
        }
      ]
    },
    {
      "cell_type": "code",
      "metadata": {
        "id": "_r2SsLqe6M13",
        "outputId": "621aa583-366c-4ca5-d72c-084d14174cb4",
        "colab": {
          "base_uri": "https://localhost:8080/",
          "height": 34
        }
      },
      "source": [
        "# Prediction for demo data \n",
        "dtc.predict(sc.fit_transform([[1,34,1900]]))"
      ],
      "execution_count": 29,
      "outputs": [
        {
          "output_type": "execute_result",
          "data": {
            "text/plain": [
              "array([1])"
            ]
          },
          "metadata": {
            "tags": []
          },
          "execution_count": 29
        }
      ]
    },
    {
      "cell_type": "code",
      "metadata": {
        "id": "DWa0pVBq6tiO"
      },
      "source": [
        "from sklearn.ensemble import RandomForestClassifier\n",
        "from sklearn.preprocessing import StandardScaler\n",
        "from sklearn.metrics import fbeta_score, make_scorer # make_scorer takes a score function, and returns a callable that scores a classifier's output.\n",
        "#F-beta score is for the positive class in binary classification\n",
        "\n",
        "from sklearn.model_selection import GridSearchCV\n",
        "\n",
        "model = RandomForestClassifier()"
      ],
      "execution_count": 74,
      "outputs": []
    },
    {
      "cell_type": "markdown",
      "metadata": {
        "id": "6jVORm9rBYBq"
      },
      "source": [
        "# optimised model\n",
        "\n",
        "**Our optimized Random Forest model is:**\n",
        "\n",
        "```\n",
        "RandomForestClassifier(bootstrap=True, ccp_alpha=0.0, class_weight=None,\n",
        "                       criterion='gini', max_depth=5, max_features='auto',\n",
        "                       max_leaf_nodes=None, max_samples=None,\n",
        "                       min_impurity_decrease=0.0, min_impurity_split=None,\n",
        "                       min_samples_leaf=8, min_samples_split=3,\n",
        "                       min_weight_fraction_leaf=0.0, n_estimators=4,\n",
        "                       n_jobs=None, oob_score=False, random_state=None,\n",
        "                       verbose=0, warm_start=False)\n",
        "```\n",
        "\n",
        "\n"
      ]
    },
    {
      "cell_type": "code",
      "metadata": {
        "id": "paYlvHYsBUV8"
      },
      "source": [
        "# ftwo_scorer = make_scorer(fbeta_score, beta=2)\n",
        "# parameters = {\"n_estimators\": [4, 5, 6, 7, 8, 9, 10, 15], \n",
        "#               \"criterion\": [\"gini\", \"entropy\"],\n",
        "#               \"max_features\": [\"auto\", \"sqrt\", \"log2\"], \n",
        "#               \"max_depth\": [2, 3, 5, 10], \n",
        "#               \"min_samples_split\": [2, 3, 5, 10],\n",
        "#               \"min_samples_leaf\": [1, 5, 8, 10]\n",
        "#              }\n",
        "# grid_cv = GridSearchCV(model, parameters, scoring = ftwo_scorer)\n",
        "# grid_cv = grid_cv.fit(x_train, y_train)\n",
        "\n",
        "# print(\"Our optimized Random Forest model is:\")\n",
        "# grid_cv.best_estimator_"
      ],
      "execution_count": null,
      "outputs": []
    },
    {
      "cell_type": "code",
      "metadata": {
        "id": "wA28U2Aq9EK2"
      },
      "source": [
        "sc = StandardScaler()\n",
        "x_train = sc.fit_transform(x_train)\n",
        "x_test = sc.transform(x_test)\n",
        "#model = grid_cv.best_estimator_  (#uncomment this if you want to run the above cell & comment the below code)\n",
        "model = RandomForestClassifier(bootstrap=True, ccp_alpha=0.0, class_weight=None,\n",
        "                       criterion='gini', max_depth=5, max_features='auto',\n",
        "                       max_leaf_nodes=None, max_samples=None,\n",
        "                       min_impurity_decrease=0.0, min_impurity_split=None,\n",
        "                       min_samples_leaf=8, min_samples_split=3,\n",
        "                       min_weight_fraction_leaf=0.0, n_estimators=4,\n",
        "                       n_jobs=None, oob_score=False, random_state=None,\n",
        "                       verbose=0, warm_start=False)\n"
      ],
      "execution_count": 55,
      "outputs": []
    },
    {
      "cell_type": "code",
      "metadata": {
        "id": "cU_mnt3FRCb7",
        "outputId": "78b36c0d-6ea7-46b0-a750-1c6901806f01",
        "colab": {
          "base_uri": "https://localhost:8080/",
          "height": 151
        }
      },
      "source": [
        "model.fit(x_train, y_train)"
      ],
      "execution_count": 56,
      "outputs": [
        {
          "output_type": "execute_result",
          "data": {
            "text/plain": [
              "RandomForestClassifier(bootstrap=True, ccp_alpha=0.0, class_weight=None,\n",
              "                       criterion='gini', max_depth=5, max_features='auto',\n",
              "                       max_leaf_nodes=None, max_samples=None,\n",
              "                       min_impurity_decrease=0.0, min_impurity_split=None,\n",
              "                       min_samples_leaf=8, min_samples_split=3,\n",
              "                       min_weight_fraction_leaf=0.0, n_estimators=4,\n",
              "                       n_jobs=None, oob_score=False, random_state=None,\n",
              "                       verbose=0, warm_start=False)"
            ]
          },
          "metadata": {
            "tags": []
          },
          "execution_count": 56
        }
      ]
    },
    {
      "cell_type": "code",
      "metadata": {
        "id": "t-T4M-0cRsae"
      },
      "source": [
        "y_pred = model.predict(x_test)"
      ],
      "execution_count": 57,
      "outputs": []
    },
    {
      "cell_type": "code",
      "metadata": {
        "id": "X9tF8iE59OvV",
        "outputId": "f5c56b1c-815c-426b-81c0-c17f779561ba",
        "colab": {
          "base_uri": "https://localhost:8080/",
          "height": 168
        }
      },
      "source": [
        "# Conclude that 0 is Not Purchased and 1 is vice versa\n",
        "from sklearn.metrics import confusion_matrix, accuracy_score, classification_report\n",
        "\n",
        "labels = [\"Not Purchased\", \"Purhased\"]\n",
        "\n",
        "y_pred=model.predict(x_test)\n",
        "report = classification_report(y_test, y_pred, target_names=labels)\n",
        "print(report)"
      ],
      "execution_count": 58,
      "outputs": [
        {
          "output_type": "stream",
          "text": [
            "               precision    recall  f1-score   support\n",
            "\n",
            "Not Purchased       0.94      0.94      0.94        48\n",
            "     Purhased       0.91      0.91      0.91        32\n",
            "\n",
            "     accuracy                           0.93        80\n",
            "    macro avg       0.92      0.92      0.92        80\n",
            " weighted avg       0.93      0.93      0.93        80\n",
            "\n"
          ],
          "name": "stdout"
        }
      ]
    },
    {
      "cell_type": "code",
      "metadata": {
        "id": "rvsF7DlsaIeK",
        "outputId": "e5870522-08b4-487c-cebd-e7ae6ea03d11",
        "colab": {
          "base_uri": "https://localhost:8080/",
          "height": 290
        }
      },
      "source": [
        "import seaborn as sns\n",
        "\n",
        "classificationReport= classification_report(y_test, y_pred, target_names=classes, output_dict=True)\n",
        "\n",
        "sns.heatmap(pd.DataFrame(classificationReport).iloc[:-1, :].T, annot=True)\n"
      ],
      "execution_count": 59,
      "outputs": [
        {
          "output_type": "execute_result",
          "data": {
            "text/plain": [
              "<matplotlib.axes._subplots.AxesSubplot at 0x7f69cefc36d8>"
            ]
          },
          "metadata": {
            "tags": []
          },
          "execution_count": 59
        },
        {
          "output_type": "display_data",
          "data": {
            "image/png": "[encoded data removed]",
            "text/plain": [
              "<Figure size 432x288 with 2 Axes>"
            ]
          },
          "metadata": {
            "tags": []
          }
        }
      ]
    },
    {
      "cell_type": "markdown",
      "metadata": {
        "id": "gnGR9xJyaw4-"
      },
      "source": [
        "Note:\n",
        "\n",
        "`'macro':`\n",
        "\n",
        "Calculate metrics for each label, and find their unweighted mean. This does not take label imbalance into account.\n",
        "\n",
        "`'weighted'`:\n",
        "'weighted':\n",
        "Calculate metrics for each label, and find their average weighted by support (the number of true instances for each label). This alters ‘macro’ to account for label imbalance; it can result in an F-score that is not between precision and recall.\n",
        "\n",
        "`'Recall'`:\n",
        "Note: A model that produces no false negatives has a recall of 1.0.\n",
        "\n",
        "\n",
        "Improving precision typically reduces recall and vice versa."
      ]
    },
    {
      "cell_type": "markdown",
      "metadata": {
        "id": "9-ijpvRZb85m"
      },
      "source": [
        "## Let's plot the Confusion matrix"
      ]
    },
    {
      "cell_type": "code",
      "metadata": {
        "id": "ZZvoCfwY9IHn",
        "outputId": "ec2fd368-003b-47e1-b331-9670e8c36abf",
        "colab": {
          "base_uri": "https://localhost:8080/",
          "height": 481
        }
      },
      "source": [
        "import seaborn as sns\n",
        "import matplotlib.pyplot as plt\n",
        "\n",
        "\n",
        "df_cm = pd.DataFrame(confusion_matrix(y_test,y_pred), columns=labels, index= labels)\n",
        "df_cm.index.name = 'Actual'\n",
        "df_cm.columns.name = 'Predicted'\n",
        "plt.figure(figsize = (10,7))\n",
        "sns.set(font_scale=1.4)#for label size\n",
        "sns.heatmap(df_cm, cmap=\"Wistia\", annot=True,annot_kws={\"size\": 17})"
      ],
      "execution_count": 60,
      "outputs": [
        {
          "output_type": "execute_result",
          "data": {
            "text/plain": [
              "<matplotlib.axes._subplots.AxesSubplot at 0x7f69cef3bb38>"
            ]
          },
          "metadata": {
            "tags": []
          },
          "execution_count": 60
        },
        {
          "output_type": "display_data",
          "data": {
            "image/png": "[encoded data removed]",
            "text/plain": [
              "<Figure size 720x504 with 2 Axes>"
            ]
          },
          "metadata": {
            "tags": []
          }
        }
      ]
    },
    {
      "cell_type": "code",
      "metadata": {
        "id": "gDTdIAehBGDt"
      },
      "source": [
        "# Getting the roc\n",
        "import sklearn.metrics as metrics\n",
        "fpr,tpr,threshold=metrics.roc_curve(y_test,y_pred)\n",
        "roc_auc=metrics.auc(fpr,tpr)"
      ],
      "execution_count": 61,
      "outputs": []
    },
    {
      "cell_type": "code",
      "metadata": {
        "id": "c4nBuH2jBGDw",
        "outputId": "3e10aa6d-4a50-4569-e105-6826a3d4418b",
        "colab": {
          "base_uri": "https://localhost:8080/",
          "height": 332
        }
      },
      "source": [
        "# Plotting the roc-auc curve\n",
        "import matplotlib.pyplot as plt\n",
        "plt.title(\"roc\")\n",
        "plt.plot(fpr,tpr,'b',label=\"auc=%0.2f\"%roc_auc)\n",
        "plt.legend(loc=\"lower right\")\n",
        "plt.plot([0,1],[0,1],\"r--\")\n",
        "plt.xlim([0,1])\n",
        "plt.ylim([0,1])\n",
        "plt.ylabel(\"tpr\")\n",
        "plt.xlabel(\"fpr\")"
      ],
      "execution_count": 62,
      "outputs": [
        {
          "output_type": "execute_result",
          "data": {
            "text/plain": [
              "Text(0.5, 0, 'fpr')"
            ]
          },
          "metadata": {
            "tags": []
          },
          "execution_count": 62
        },
        {
          "output_type": "display_data",
          "data": {
            "image/png": "[encoded data removed]",
            "text/plain": [
              "<Figure size 432x288 with 1 Axes>"
            ]
          },
          "metadata": {
            "tags": []
          }
        }
      ]
    },
    {
      "cell_type": "markdown",
      "metadata": {
        "id": "IX_LPM2vecab"
      },
      "source": [
        "## Before we deploy;"
      ]
    },
    {
      "cell_type": "code",
      "metadata": {
        "id": "7GuBwGZYdA1W"
      },
      "source": [
        "# Import tools needed for visualization\n",
        "from sklearn.tree import export_graphviz\n",
        "import pydot\n",
        "tree = model.estimators_[3]\n",
        "features= ['Gender',\t'Age',\t'EstimatedSalary']\n",
        "\n",
        "# Export the image to a dot file\n",
        "export_graphviz(tree, out_file = 'tree.dot', feature_names = features, rounded = True, precision = 1)\n",
        "\n",
        "# Use dot file to create a graph\n",
        "(graph, ) = pydot.graph_from_dot_file('tree.dot')\n",
        "\n",
        "# Write graph to a png file\n",
        "graph.write_png('tree.png')"
      ],
      "execution_count": 67,
      "outputs": []
    },
    {
      "cell_type": "code",
      "metadata": {
        "id": "i_VcGsE4aAC3",
        "outputId": "bed9cfca-bbf1-480e-c896-e1cb1c94f251",
        "colab": {
          "base_uri": "https://localhost:8080/",
          "height": 796
        }
      },
      "source": [
        "import graphviz\n",
        "with open(\"tree.dot\") as f:\n",
        "    dot_graph = f.read()\n",
        "graphviz.Source(dot_graph)"
      ],
      "execution_count": 68,
      "outputs": [
        {
          "output_type": "execute_result",
          "data": {
            "text/plain": [
              "<graphviz.files.Source at 0x7f6a056658d0>"
            ],
            "image/svg+xml": "<?xml version=\"1.0\" encoding=\"UTF-8\" standalone=\"no\"?>\n<!DOCTYPE svg PUBLIC \"-//W3C//DTD SVG 1.1//EN\"\n \"http://www.w3.org/Graphics/SVG/1.1/DTD/svg11.dtd\">\n<!-- Generated by graphviz version 2.40.1 (20161225.0304)\n -->\n<!-- Title: Tree Pages: 1 -->\n<svg width=\"789pt\" height=\"581pt\"\n viewBox=\"0.00 0.00 788.50 581.00\" xmlns=\"http://www.w3.org/2000/svg\" xmlns:xlink=\"http://www.w3.org/1999/xlink\">\n<g id=\"graph0\" class=\"graph\" transform=\"scale(1 1) rotate(0) translate(4 577)\">\n<title>Tree</title>\n<polygon fill=\"#ffffff\" stroke=\"transparent\" points=\"-4,4 -4,-577 784.5,-577 784.5,4 -4,4\"/>\n<!-- 0 -->\n<g id=\"node1\" class=\"node\">\n<title>0</title>\n<path fill=\"none\" stroke=\"#000000\" d=\"M560.5,-573C560.5,-573 417.5,-573 417.5,-573 411.5,-573 405.5,-567 405.5,-561 405.5,-561 405.5,-517 405.5,-517 405.5,-511 411.5,-505 417.5,-505 417.5,-505 560.5,-505 560.5,-505 566.5,-505 572.5,-511 572.5,-517 572.5,-517 572.5,-561 572.5,-561 572.5,-567 566.5,-573 560.5,-573\"/>\n<text text-anchor=\"middle\" x=\"489\" y=\"-557.8\" font-family=\"Helvetica,sans-Serif\" font-size=\"14.00\" fill=\"#000000\">EstimatedSalary &lt;= 0.6</text>\n<text text-anchor=\"middle\" x=\"489\" y=\"-542.8\" font-family=\"Helvetica,sans-Serif\" font-size=\"14.00\" fill=\"#000000\">gini = 0.5</text>\n<text text-anchor=\"middle\" x=\"489\" y=\"-527.8\" font-family=\"Helvetica,sans-Serif\" font-size=\"14.00\" fill=\"#000000\">samples = 203</text>\n<text text-anchor=\"middle\" x=\"489\" y=\"-512.8\" font-family=\"Helvetica,sans-Serif\" font-size=\"14.00\" fill=\"#000000\">value = [204, 116]</text>\n</g>\n<!-- 1 -->\n<g id=\"node2\" class=\"node\">\n<title>1</title>\n<path fill=\"none\" stroke=\"#000000\" d=\"M425,-469C425,-469 325,-469 325,-469 319,-469 313,-463 313,-457 313,-457 313,-413 313,-413 313,-407 319,-401 325,-401 325,-401 425,-401 425,-401 431,-401 437,-407 437,-413 437,-413 437,-457 437,-457 437,-463 431,-469 425,-469\"/>\n<text text-anchor=\"middle\" x=\"375\" y=\"-453.8\" font-family=\"Helvetica,sans-Serif\" font-size=\"14.00\" fill=\"#000000\">Age &lt;= 0.7</text>\n<text text-anchor=\"middle\" x=\"375\" y=\"-438.8\" font-family=\"Helvetica,sans-Serif\" font-size=\"14.00\" fill=\"#000000\">gini = 0.4</text>\n<text text-anchor=\"middle\" x=\"375\" y=\"-423.8\" font-family=\"Helvetica,sans-Serif\" font-size=\"14.00\" fill=\"#000000\">samples = 158</text>\n<text text-anchor=\"middle\" x=\"375\" y=\"-408.8\" font-family=\"Helvetica,sans-Serif\" font-size=\"14.00\" fill=\"#000000\">value = [194, 57]</text>\n</g>\n<!-- 0&#45;&gt;1 -->\n<g id=\"edge1\" class=\"edge\">\n<title>0&#45;&gt;1</title>\n<path fill=\"none\" stroke=\"#000000\" d=\"M451.6721,-504.9465C441.535,-495.6986 430.4517,-485.5876 419.9417,-475.9994\"/>\n<polygon fill=\"#000000\" stroke=\"#000000\" points=\"422.1583,-473.284 412.4117,-469.13 417.4405,-478.4553 422.1583,-473.284\"/>\n<text text-anchor=\"middle\" x=\"413.5573\" y=\"-490.4037\" font-family=\"Helvetica,sans-Serif\" font-size=\"14.00\" fill=\"#000000\">True</text>\n</g>\n<!-- 16 -->\n<g id=\"node17\" class=\"node\">\n<title>16</title>\n<path fill=\"none\" stroke=\"#000000\" d=\"M643.5,-469C643.5,-469 500.5,-469 500.5,-469 494.5,-469 488.5,-463 488.5,-457 488.5,-457 488.5,-413 488.5,-413 488.5,-407 494.5,-401 500.5,-401 500.5,-401 643.5,-401 643.5,-401 649.5,-401 655.5,-407 655.5,-413 655.5,-413 655.5,-457 655.5,-457 655.5,-463 649.5,-469 643.5,-469\"/>\n<text text-anchor=\"middle\" x=\"572\" y=\"-453.8\" font-family=\"Helvetica,sans-Serif\" font-size=\"14.00\" fill=\"#000000\">EstimatedSalary &lt;= 1.4</text>\n<text text-anchor=\"middle\" x=\"572\" y=\"-438.8\" font-family=\"Helvetica,sans-Serif\" font-size=\"14.00\" fill=\"#000000\">gini = 0.2</text>\n<text text-anchor=\"middle\" x=\"572\" y=\"-423.8\" font-family=\"Helvetica,sans-Serif\" font-size=\"14.00\" fill=\"#000000\">samples = 45</text>\n<text text-anchor=\"middle\" x=\"572\" y=\"-408.8\" font-family=\"Helvetica,sans-Serif\" font-size=\"14.00\" fill=\"#000000\">value = [10, 59]</text>\n</g>\n<!-- 0&#45;&gt;16 -->\n<g id=\"edge16\" class=\"edge\">\n<title>0&#45;&gt;16</title>\n<path fill=\"none\" stroke=\"#000000\" d=\"M516.1773,-504.9465C523.2712,-496.0578 531.0015,-486.3716 538.386,-477.1188\"/>\n<polygon fill=\"#000000\" stroke=\"#000000\" points=\"541.2594,-479.1293 544.7616,-469.13 535.7882,-474.7628 541.2594,-479.1293\"/>\n<text text-anchor=\"middle\" x=\"547.5516\" y=\"-490.2738\" font-family=\"Helvetica,sans-Serif\" font-size=\"14.00\" fill=\"#000000\">False</text>\n</g>\n<!-- 2 -->\n<g id=\"node3\" class=\"node\">\n<title>2</title>\n<path fill=\"none\" stroke=\"#000000\" d=\"M255,-365C255,-365 163,-365 163,-365 157,-365 151,-359 151,-353 151,-353 151,-309 151,-309 151,-303 157,-297 163,-297 163,-297 255,-297 255,-297 261,-297 267,-303 267,-309 267,-309 267,-353 267,-353 267,-359 261,-365 255,-365\"/>\n<text text-anchor=\"middle\" x=\"209\" y=\"-349.8\" font-family=\"Helvetica,sans-Serif\" font-size=\"14.00\" fill=\"#000000\">Age &lt;= 0.4</text>\n<text text-anchor=\"middle\" x=\"209\" y=\"-334.8\" font-family=\"Helvetica,sans-Serif\" font-size=\"14.00\" fill=\"#000000\">gini = 0.1</text>\n<text text-anchor=\"middle\" x=\"209\" y=\"-319.8\" font-family=\"Helvetica,sans-Serif\" font-size=\"14.00\" fill=\"#000000\">samples = 118</text>\n<text text-anchor=\"middle\" x=\"209\" y=\"-304.8\" font-family=\"Helvetica,sans-Serif\" font-size=\"14.00\" fill=\"#000000\">value = [184, 8]</text>\n</g>\n<!-- 1&#45;&gt;2 -->\n<g id=\"edge2\" class=\"edge\">\n<title>1&#45;&gt;2</title>\n<path fill=\"none\" stroke=\"#000000\" d=\"M320.6454,-400.9465C305.1678,-391.2497 288.1754,-380.6039 272.2188,-370.6069\"/>\n<polygon fill=\"#000000\" stroke=\"#000000\" points=\"273.8092,-367.4732 263.4767,-365.13 270.0928,-373.4052 273.8092,-367.4732\"/>\n</g>\n<!-- 9 -->\n<g id=\"node10\" class=\"node\">\n<title>9</title>\n<path fill=\"none\" stroke=\"#000000\" d=\"M421,-365C421,-365 329,-365 329,-365 323,-365 317,-359 317,-353 317,-353 317,-309 317,-309 317,-303 323,-297 329,-297 329,-297 421,-297 421,-297 427,-297 433,-303 433,-309 433,-309 433,-353 433,-353 433,-359 427,-365 421,-365\"/>\n<text text-anchor=\"middle\" x=\"375\" y=\"-349.8\" font-family=\"Helvetica,sans-Serif\" font-size=\"14.00\" fill=\"#000000\">Age &lt;= 1.0</text>\n<text text-anchor=\"middle\" x=\"375\" y=\"-334.8\" font-family=\"Helvetica,sans-Serif\" font-size=\"14.00\" fill=\"#000000\">gini = 0.3</text>\n<text text-anchor=\"middle\" x=\"375\" y=\"-319.8\" font-family=\"Helvetica,sans-Serif\" font-size=\"14.00\" fill=\"#000000\">samples = 40</text>\n<text text-anchor=\"middle\" x=\"375\" y=\"-304.8\" font-family=\"Helvetica,sans-Serif\" font-size=\"14.00\" fill=\"#000000\">value = [10, 49]</text>\n</g>\n<!-- 1&#45;&gt;9 -->\n<g id=\"edge9\" class=\"edge\">\n<title>1&#45;&gt;9</title>\n<path fill=\"none\" stroke=\"#000000\" d=\"M375,-400.9465C375,-392.776 375,-383.9318 375,-375.3697\"/>\n<polygon fill=\"#000000\" stroke=\"#000000\" points=\"378.5001,-375.13 375,-365.13 371.5001,-375.13 378.5001,-375.13\"/>\n</g>\n<!-- 3 -->\n<g id=\"node4\" class=\"node\">\n<title>3</title>\n<path fill=\"none\" stroke=\"#000000\" d=\"M129,-261C129,-261 37,-261 37,-261 31,-261 25,-255 25,-249 25,-249 25,-205 25,-205 25,-199 31,-193 37,-193 37,-193 129,-193 129,-193 135,-193 141,-199 141,-205 141,-205 141,-249 141,-249 141,-255 135,-261 129,-261\"/>\n<text text-anchor=\"middle\" x=\"83\" y=\"-245.8\" font-family=\"Helvetica,sans-Serif\" font-size=\"14.00\" fill=\"#000000\">Age &lt;= &#45;0.1</text>\n<text text-anchor=\"middle\" x=\"83\" y=\"-230.8\" font-family=\"Helvetica,sans-Serif\" font-size=\"14.00\" fill=\"#000000\">gini = 0.0</text>\n<text text-anchor=\"middle\" x=\"83\" y=\"-215.8\" font-family=\"Helvetica,sans-Serif\" font-size=\"14.00\" fill=\"#000000\">samples = 109</text>\n<text text-anchor=\"middle\" x=\"83\" y=\"-200.8\" font-family=\"Helvetica,sans-Serif\" font-size=\"14.00\" fill=\"#000000\">value = [175, 4]</text>\n</g>\n<!-- 2&#45;&gt;3 -->\n<g id=\"edge3\" class=\"edge\">\n<title>2&#45;&gt;3</title>\n<path fill=\"none\" stroke=\"#000000\" d=\"M167.7429,-296.9465C156.4299,-287.6088 144.0508,-277.3911 132.3342,-267.7203\"/>\n<polygon fill=\"#000000\" stroke=\"#000000\" points=\"134.29,-264.7964 124.3498,-261.13 129.8341,-270.195 134.29,-264.7964\"/>\n</g>\n<!-- 8 -->\n<g id=\"node9\" class=\"node\">\n<title>8</title>\n<path fill=\"none\" stroke=\"#000000\" d=\"M246.5,-253.5C246.5,-253.5 171.5,-253.5 171.5,-253.5 165.5,-253.5 159.5,-247.5 159.5,-241.5 159.5,-241.5 159.5,-212.5 159.5,-212.5 159.5,-206.5 165.5,-200.5 171.5,-200.5 171.5,-200.5 246.5,-200.5 246.5,-200.5 252.5,-200.5 258.5,-206.5 258.5,-212.5 258.5,-212.5 258.5,-241.5 258.5,-241.5 258.5,-247.5 252.5,-253.5 246.5,-253.5\"/>\n<text text-anchor=\"middle\" x=\"209\" y=\"-238.3\" font-family=\"Helvetica,sans-Serif\" font-size=\"14.00\" fill=\"#000000\">gini = 0.4</text>\n<text text-anchor=\"middle\" x=\"209\" y=\"-223.3\" font-family=\"Helvetica,sans-Serif\" font-size=\"14.00\" fill=\"#000000\">samples = 9</text>\n<text text-anchor=\"middle\" x=\"209\" y=\"-208.3\" font-family=\"Helvetica,sans-Serif\" font-size=\"14.00\" fill=\"#000000\">value = [9, 4]</text>\n</g>\n<!-- 2&#45;&gt;8 -->\n<g id=\"edge8\" class=\"edge\">\n<title>2&#45;&gt;8</title>\n<path fill=\"none\" stroke=\"#000000\" d=\"M209,-296.9465C209,-286.2621 209,-274.4254 209,-263.5742\"/>\n<polygon fill=\"#000000\" stroke=\"#000000\" points=\"212.5001,-263.5421 209,-253.5422 205.5001,-263.5422 212.5001,-263.5421\"/>\n</g>\n<!-- 4 -->\n<g id=\"node5\" class=\"node\">\n<title>4</title>\n<path fill=\"none\" stroke=\"#000000\" d=\"M104,-149.5C104,-149.5 12,-149.5 12,-149.5 6,-149.5 0,-143.5 0,-137.5 0,-137.5 0,-108.5 0,-108.5 0,-102.5 6,-96.5 12,-96.5 12,-96.5 104,-96.5 104,-96.5 110,-96.5 116,-102.5 116,-108.5 116,-108.5 116,-137.5 116,-137.5 116,-143.5 110,-149.5 104,-149.5\"/>\n<text text-anchor=\"middle\" x=\"58\" y=\"-134.3\" font-family=\"Helvetica,sans-Serif\" font-size=\"14.00\" fill=\"#000000\">gini = 0.0</text>\n<text text-anchor=\"middle\" x=\"58\" y=\"-119.3\" font-family=\"Helvetica,sans-Serif\" font-size=\"14.00\" fill=\"#000000\">samples = 75</text>\n<text text-anchor=\"middle\" x=\"58\" y=\"-104.3\" font-family=\"Helvetica,sans-Serif\" font-size=\"14.00\" fill=\"#000000\">value = [128, 0]</text>\n</g>\n<!-- 3&#45;&gt;4 -->\n<g id=\"edge4\" class=\"edge\">\n<title>3&#45;&gt;4</title>\n<path fill=\"none\" stroke=\"#000000\" d=\"M74.8141,-192.9465C72.2457,-182.2621 69.4003,-170.4254 66.7919,-159.5742\"/>\n<polygon fill=\"#000000\" stroke=\"#000000\" points=\"70.1207,-158.4471 64.3803,-149.5422 63.3146,-160.0833 70.1207,-158.4471\"/>\n</g>\n<!-- 5 -->\n<g id=\"node6\" class=\"node\">\n<title>5</title>\n<path fill=\"none\" stroke=\"#000000\" d=\"M232,-157C232,-157 146,-157 146,-157 140,-157 134,-151 134,-145 134,-145 134,-101 134,-101 134,-95 140,-89 146,-89 146,-89 232,-89 232,-89 238,-89 244,-95 244,-101 244,-101 244,-145 244,-145 244,-151 238,-157 232,-157\"/>\n<text text-anchor=\"middle\" x=\"189\" y=\"-141.8\" font-family=\"Helvetica,sans-Serif\" font-size=\"14.00\" fill=\"#000000\">Gender &lt;= 0.0</text>\n<text text-anchor=\"middle\" x=\"189\" y=\"-126.8\" font-family=\"Helvetica,sans-Serif\" font-size=\"14.00\" fill=\"#000000\">gini = 0.1</text>\n<text text-anchor=\"middle\" x=\"189\" y=\"-111.8\" font-family=\"Helvetica,sans-Serif\" font-size=\"14.00\" fill=\"#000000\">samples = 34</text>\n<text text-anchor=\"middle\" x=\"189\" y=\"-96.8\" font-family=\"Helvetica,sans-Serif\" font-size=\"14.00\" fill=\"#000000\">value = [47, 4]</text>\n</g>\n<!-- 3&#45;&gt;5 -->\n<g id=\"edge5\" class=\"edge\">\n<title>3&#45;&gt;5</title>\n<path fill=\"none\" stroke=\"#000000\" d=\"M117.7084,-192.9465C127.0426,-183.7884 137.2396,-173.7838 146.9273,-164.2788\"/>\n<polygon fill=\"#000000\" stroke=\"#000000\" points=\"149.5267,-166.6318 154.2137,-157.13 144.6243,-161.6351 149.5267,-166.6318\"/>\n</g>\n<!-- 6 -->\n<g id=\"node7\" class=\"node\">\n<title>6</title>\n<path fill=\"none\" stroke=\"#000000\" d=\"M203.5,-53C203.5,-53 120.5,-53 120.5,-53 114.5,-53 108.5,-47 108.5,-41 108.5,-41 108.5,-12 108.5,-12 108.5,-6 114.5,0 120.5,0 120.5,0 203.5,0 203.5,0 209.5,0 215.5,-6 215.5,-12 215.5,-12 215.5,-41 215.5,-41 215.5,-47 209.5,-53 203.5,-53\"/>\n<text text-anchor=\"middle\" x=\"162\" y=\"-37.8\" font-family=\"Helvetica,sans-Serif\" font-size=\"14.00\" fill=\"#000000\">gini = 0.2</text>\n<text text-anchor=\"middle\" x=\"162\" y=\"-22.8\" font-family=\"Helvetica,sans-Serif\" font-size=\"14.00\" fill=\"#000000\">samples = 14</text>\n<text text-anchor=\"middle\" x=\"162\" y=\"-7.8\" font-family=\"Helvetica,sans-Serif\" font-size=\"14.00\" fill=\"#000000\">value = [18, 2]</text>\n</g>\n<!-- 5&#45;&gt;6 -->\n<g id=\"edge6\" class=\"edge\">\n<title>5&#45;&gt;6</title>\n<path fill=\"none\" stroke=\"#000000\" d=\"M179.4808,-88.9777C177.1237,-80.5533 174.5888,-71.4934 172.2007,-62.9579\"/>\n<polygon fill=\"#000000\" stroke=\"#000000\" points=\"175.5491,-61.9356 169.484,-53.2485 168.808,-63.8217 175.5491,-61.9356\"/>\n</g>\n<!-- 7 -->\n<g id=\"node8\" class=\"node\">\n<title>7</title>\n<path fill=\"none\" stroke=\"#000000\" d=\"M328.5,-53C328.5,-53 245.5,-53 245.5,-53 239.5,-53 233.5,-47 233.5,-41 233.5,-41 233.5,-12 233.5,-12 233.5,-6 239.5,0 245.5,0 245.5,0 328.5,0 328.5,0 334.5,0 340.5,-6 340.5,-12 340.5,-12 340.5,-41 340.5,-41 340.5,-47 334.5,-53 328.5,-53\"/>\n<text text-anchor=\"middle\" x=\"287\" y=\"-37.8\" font-family=\"Helvetica,sans-Serif\" font-size=\"14.00\" fill=\"#000000\">gini = 0.1</text>\n<text text-anchor=\"middle\" x=\"287\" y=\"-22.8\" font-family=\"Helvetica,sans-Serif\" font-size=\"14.00\" fill=\"#000000\">samples = 20</text>\n<text text-anchor=\"middle\" x=\"287\" y=\"-7.8\" font-family=\"Helvetica,sans-Serif\" font-size=\"14.00\" fill=\"#000000\">value = [29, 2]</text>\n</g>\n<!-- 5&#45;&gt;7 -->\n<g id=\"edge7\" class=\"edge\">\n<title>5&#45;&gt;7</title>\n<path fill=\"none\" stroke=\"#000000\" d=\"M223.5511,-88.9777C232.9434,-79.7292 243.1136,-69.7147 252.5029,-60.4691\"/>\n<polygon fill=\"#000000\" stroke=\"#000000\" points=\"255.1661,-62.7587 259.8357,-53.2485 250.2546,-57.7709 255.1661,-62.7587\"/>\n</g>\n<!-- 10 -->\n<g id=\"node11\" class=\"node\">\n<title>10</title>\n<path fill=\"none\" stroke=\"#000000\" d=\"M363.5,-253.5C363.5,-253.5 288.5,-253.5 288.5,-253.5 282.5,-253.5 276.5,-247.5 276.5,-241.5 276.5,-241.5 276.5,-212.5 276.5,-212.5 276.5,-206.5 282.5,-200.5 288.5,-200.5 288.5,-200.5 363.5,-200.5 363.5,-200.5 369.5,-200.5 375.5,-206.5 375.5,-212.5 375.5,-212.5 375.5,-241.5 375.5,-241.5 375.5,-247.5 369.5,-253.5 363.5,-253.5\"/>\n<text text-anchor=\"middle\" x=\"326\" y=\"-238.3\" font-family=\"Helvetica,sans-Serif\" font-size=\"14.00\" fill=\"#000000\">gini = 0.5</text>\n<text text-anchor=\"middle\" x=\"326\" y=\"-223.3\" font-family=\"Helvetica,sans-Serif\" font-size=\"14.00\" fill=\"#000000\">samples = 9</text>\n<text text-anchor=\"middle\" x=\"326\" y=\"-208.3\" font-family=\"Helvetica,sans-Serif\" font-size=\"14.00\" fill=\"#000000\">value = [4, 6]</text>\n</g>\n<!-- 9&#45;&gt;10 -->\n<g id=\"edge10\" class=\"edge\">\n<title>9&#45;&gt;10</title>\n<path fill=\"none\" stroke=\"#000000\" d=\"M358.9556,-296.9465C353.8178,-286.0418 348.1145,-273.9368 342.9164,-262.9043\"/>\n<polygon fill=\"#000000\" stroke=\"#000000\" points=\"345.9338,-261.0966 338.5054,-253.5422 339.6015,-264.0802 345.9338,-261.0966\"/>\n</g>\n<!-- 11 -->\n<g id=\"node12\" class=\"node\">\n<title>11</title>\n<path fill=\"none\" stroke=\"#000000\" d=\"M488.5,-261C488.5,-261 405.5,-261 405.5,-261 399.5,-261 393.5,-255 393.5,-249 393.5,-249 393.5,-205 393.5,-205 393.5,-199 399.5,-193 405.5,-193 405.5,-193 488.5,-193 488.5,-193 494.5,-193 500.5,-199 500.5,-205 500.5,-205 500.5,-249 500.5,-249 500.5,-255 494.5,-261 488.5,-261\"/>\n<text text-anchor=\"middle\" x=\"447\" y=\"-245.8\" font-family=\"Helvetica,sans-Serif\" font-size=\"14.00\" fill=\"#000000\">Age &lt;= 1.3</text>\n<text text-anchor=\"middle\" x=\"447\" y=\"-230.8\" font-family=\"Helvetica,sans-Serif\" font-size=\"14.00\" fill=\"#000000\">gini = 0.2</text>\n<text text-anchor=\"middle\" x=\"447\" y=\"-215.8\" font-family=\"Helvetica,sans-Serif\" font-size=\"14.00\" fill=\"#000000\">samples = 31</text>\n<text text-anchor=\"middle\" x=\"447\" y=\"-200.8\" font-family=\"Helvetica,sans-Serif\" font-size=\"14.00\" fill=\"#000000\">value = [6, 43]</text>\n</g>\n<!-- 9&#45;&gt;11 -->\n<g id=\"edge11\" class=\"edge\">\n<title>9&#45;&gt;11</title>\n<path fill=\"none\" stroke=\"#000000\" d=\"M398.5755,-296.9465C404.6671,-288.1475 411.2996,-278.5672 417.6466,-269.3993\"/>\n<polygon fill=\"#000000\" stroke=\"#000000\" points=\"420.5571,-271.3442 423.3715,-261.13 414.8017,-267.3597 420.5571,-271.3442\"/>\n</g>\n<!-- 12 -->\n<g id=\"node13\" class=\"node\">\n<title>12</title>\n<path fill=\"none\" stroke=\"#000000\" d=\"M411.5,-149.5C411.5,-149.5 328.5,-149.5 328.5,-149.5 322.5,-149.5 316.5,-143.5 316.5,-137.5 316.5,-137.5 316.5,-108.5 316.5,-108.5 316.5,-102.5 322.5,-96.5 328.5,-96.5 328.5,-96.5 411.5,-96.5 411.5,-96.5 417.5,-96.5 423.5,-102.5 423.5,-108.5 423.5,-108.5 423.5,-137.5 423.5,-137.5 423.5,-143.5 417.5,-149.5 411.5,-149.5\"/>\n<text text-anchor=\"middle\" x=\"370\" y=\"-134.3\" font-family=\"Helvetica,sans-Serif\" font-size=\"14.00\" fill=\"#000000\">gini = 0.3</text>\n<text text-anchor=\"middle\" x=\"370\" y=\"-119.3\" font-family=\"Helvetica,sans-Serif\" font-size=\"14.00\" fill=\"#000000\">samples = 11</text>\n<text text-anchor=\"middle\" x=\"370\" y=\"-104.3\" font-family=\"Helvetica,sans-Serif\" font-size=\"14.00\" fill=\"#000000\">value = [4, 16]</text>\n</g>\n<!-- 11&#45;&gt;12 -->\n<g id=\"edge12\" class=\"edge\">\n<title>11&#45;&gt;12</title>\n<path fill=\"none\" stroke=\"#000000\" d=\"M421.7873,-192.9465C413.4689,-181.7113 404.2073,-169.2021 395.8426,-157.9043\"/>\n<polygon fill=\"#000000\" stroke=\"#000000\" points=\"398.4148,-155.4965 389.6514,-149.5422 392.7889,-159.6618 398.4148,-155.4965\"/>\n</g>\n<!-- 13 -->\n<g id=\"node14\" class=\"node\">\n<title>13</title>\n<path fill=\"none\" stroke=\"#000000\" d=\"M600.5,-157C600.5,-157 453.5,-157 453.5,-157 447.5,-157 441.5,-151 441.5,-145 441.5,-145 441.5,-101 441.5,-101 441.5,-95 447.5,-89 453.5,-89 453.5,-89 600.5,-89 600.5,-89 606.5,-89 612.5,-95 612.5,-101 612.5,-101 612.5,-145 612.5,-145 612.5,-151 606.5,-157 600.5,-157\"/>\n<text text-anchor=\"middle\" x=\"527\" y=\"-141.8\" font-family=\"Helvetica,sans-Serif\" font-size=\"14.00\" fill=\"#000000\">EstimatedSalary &lt;= &#45;0.9</text>\n<text text-anchor=\"middle\" x=\"527\" y=\"-126.8\" font-family=\"Helvetica,sans-Serif\" font-size=\"14.00\" fill=\"#000000\">gini = 0.1</text>\n<text text-anchor=\"middle\" x=\"527\" y=\"-111.8\" font-family=\"Helvetica,sans-Serif\" font-size=\"14.00\" fill=\"#000000\">samples = 20</text>\n<text text-anchor=\"middle\" x=\"527\" y=\"-96.8\" font-family=\"Helvetica,sans-Serif\" font-size=\"14.00\" fill=\"#000000\">value = [2, 27]</text>\n</g>\n<!-- 11&#45;&gt;13 -->\n<g id=\"edge13\" class=\"edge\">\n<title>11&#45;&gt;13</title>\n<path fill=\"none\" stroke=\"#000000\" d=\"M473.195,-192.9465C480.0325,-184.0578 487.4834,-174.3716 494.601,-165.1188\"/>\n<polygon fill=\"#000000\" stroke=\"#000000\" points=\"497.4232,-167.1903 500.7462,-157.13 491.8748,-162.9223 497.4232,-167.1903\"/>\n</g>\n<!-- 14 -->\n<g id=\"node15\" class=\"node\">\n<title>14</title>\n<path fill=\"none\" stroke=\"#000000\" d=\"M470.5,-53C470.5,-53 387.5,-53 387.5,-53 381.5,-53 375.5,-47 375.5,-41 375.5,-41 375.5,-12 375.5,-12 375.5,-6 381.5,0 387.5,0 387.5,0 470.5,0 470.5,0 476.5,0 482.5,-6 482.5,-12 482.5,-12 482.5,-41 482.5,-41 482.5,-47 476.5,-53 470.5,-53\"/>\n<text text-anchor=\"middle\" x=\"429\" y=\"-37.8\" font-family=\"Helvetica,sans-Serif\" font-size=\"14.00\" fill=\"#000000\">gini = 0.0</text>\n<text text-anchor=\"middle\" x=\"429\" y=\"-22.8\" font-family=\"Helvetica,sans-Serif\" font-size=\"14.00\" fill=\"#000000\">samples = 8</text>\n<text text-anchor=\"middle\" x=\"429\" y=\"-7.8\" font-family=\"Helvetica,sans-Serif\" font-size=\"14.00\" fill=\"#000000\">value = [0, 10]</text>\n</g>\n<!-- 13&#45;&gt;14 -->\n<g id=\"edge14\" class=\"edge\">\n<title>13&#45;&gt;14</title>\n<path fill=\"none\" stroke=\"#000000\" d=\"M492.4489,-88.9777C483.0566,-79.7292 472.8864,-69.7147 463.4971,-60.4691\"/>\n<polygon fill=\"#000000\" stroke=\"#000000\" points=\"465.7454,-57.7709 456.1643,-53.2485 460.8339,-62.7587 465.7454,-57.7709\"/>\n</g>\n<!-- 15 -->\n<g id=\"node16\" class=\"node\">\n<title>15</title>\n<path fill=\"none\" stroke=\"#000000\" d=\"M595.5,-53C595.5,-53 512.5,-53 512.5,-53 506.5,-53 500.5,-47 500.5,-41 500.5,-41 500.5,-12 500.5,-12 500.5,-6 506.5,0 512.5,0 512.5,0 595.5,0 595.5,0 601.5,0 607.5,-6 607.5,-12 607.5,-12 607.5,-41 607.5,-41 607.5,-47 601.5,-53 595.5,-53\"/>\n<text text-anchor=\"middle\" x=\"554\" y=\"-37.8\" font-family=\"Helvetica,sans-Serif\" font-size=\"14.00\" fill=\"#000000\">gini = 0.2</text>\n<text text-anchor=\"middle\" x=\"554\" y=\"-22.8\" font-family=\"Helvetica,sans-Serif\" font-size=\"14.00\" fill=\"#000000\">samples = 12</text>\n<text text-anchor=\"middle\" x=\"554\" y=\"-7.8\" font-family=\"Helvetica,sans-Serif\" font-size=\"14.00\" fill=\"#000000\">value = [2, 17]</text>\n</g>\n<!-- 13&#45;&gt;15 -->\n<g id=\"edge15\" class=\"edge\">\n<title>13&#45;&gt;15</title>\n<path fill=\"none\" stroke=\"#000000\" d=\"M536.5192,-88.9777C538.8763,-80.5533 541.4112,-71.4934 543.7993,-62.9579\"/>\n<polygon fill=\"#000000\" stroke=\"#000000\" points=\"547.192,-63.8217 546.516,-53.2485 540.4509,-61.9356 547.192,-63.8217\"/>\n</g>\n<!-- 17 -->\n<g id=\"node18\" class=\"node\">\n<title>17</title>\n<path fill=\"none\" stroke=\"#000000\" d=\"M643.5,-365C643.5,-365 500.5,-365 500.5,-365 494.5,-365 488.5,-359 488.5,-353 488.5,-353 488.5,-309 488.5,-309 488.5,-303 494.5,-297 500.5,-297 500.5,-297 643.5,-297 643.5,-297 649.5,-297 655.5,-303 655.5,-309 655.5,-309 655.5,-353 655.5,-353 655.5,-359 649.5,-365 643.5,-365\"/>\n<text text-anchor=\"middle\" x=\"572\" y=\"-349.8\" font-family=\"Helvetica,sans-Serif\" font-size=\"14.00\" fill=\"#000000\">EstimatedSalary &lt;= 1.1</text>\n<text text-anchor=\"middle\" x=\"572\" y=\"-334.8\" font-family=\"Helvetica,sans-Serif\" font-size=\"14.00\" fill=\"#000000\">gini = 0.3</text>\n<text text-anchor=\"middle\" x=\"572\" y=\"-319.8\" font-family=\"Helvetica,sans-Serif\" font-size=\"14.00\" fill=\"#000000\">samples = 24</text>\n<text text-anchor=\"middle\" x=\"572\" y=\"-304.8\" font-family=\"Helvetica,sans-Serif\" font-size=\"14.00\" fill=\"#000000\">value = [8, 32]</text>\n</g>\n<!-- 16&#45;&gt;17 -->\n<g id=\"edge17\" class=\"edge\">\n<title>16&#45;&gt;17</title>\n<path fill=\"none\" stroke=\"#000000\" d=\"M572,-400.9465C572,-392.776 572,-383.9318 572,-375.3697\"/>\n<polygon fill=\"#000000\" stroke=\"#000000\" points=\"575.5001,-375.13 572,-365.13 568.5001,-375.13 575.5001,-375.13\"/>\n</g>\n<!-- 20 -->\n<g id=\"node21\" class=\"node\">\n<title>20</title>\n<path fill=\"none\" stroke=\"#000000\" d=\"M768.5,-357.5C768.5,-357.5 685.5,-357.5 685.5,-357.5 679.5,-357.5 673.5,-351.5 673.5,-345.5 673.5,-345.5 673.5,-316.5 673.5,-316.5 673.5,-310.5 679.5,-304.5 685.5,-304.5 685.5,-304.5 768.5,-304.5 768.5,-304.5 774.5,-304.5 780.5,-310.5 780.5,-316.5 780.5,-316.5 780.5,-345.5 780.5,-345.5 780.5,-351.5 774.5,-357.5 768.5,-357.5\"/>\n<text text-anchor=\"middle\" x=\"727\" y=\"-342.3\" font-family=\"Helvetica,sans-Serif\" font-size=\"14.00\" fill=\"#000000\">gini = 0.1</text>\n<text text-anchor=\"middle\" x=\"727\" y=\"-327.3\" font-family=\"Helvetica,sans-Serif\" font-size=\"14.00\" fill=\"#000000\">samples = 21</text>\n<text text-anchor=\"middle\" x=\"727\" y=\"-312.3\" font-family=\"Helvetica,sans-Serif\" font-size=\"14.00\" fill=\"#000000\">value = [2, 27]</text>\n</g>\n<!-- 16&#45;&gt;20 -->\n<g id=\"edge20\" class=\"edge\">\n<title>16&#45;&gt;20</title>\n<path fill=\"none\" stroke=\"#000000\" d=\"M622.7528,-400.9465C640.8109,-388.8301 661.0773,-375.232 678.9059,-363.2696\"/>\n<polygon fill=\"#000000\" stroke=\"#000000\" points=\"681.0881,-366.0203 687.442,-357.5422 677.1879,-360.2075 681.0881,-366.0203\"/>\n</g>\n<!-- 18 -->\n<g id=\"node19\" class=\"node\">\n<title>18</title>\n<path fill=\"none\" stroke=\"#000000\" d=\"M613.5,-253.5C613.5,-253.5 530.5,-253.5 530.5,-253.5 524.5,-253.5 518.5,-247.5 518.5,-241.5 518.5,-241.5 518.5,-212.5 518.5,-212.5 518.5,-206.5 524.5,-200.5 530.5,-200.5 530.5,-200.5 613.5,-200.5 613.5,-200.5 619.5,-200.5 625.5,-206.5 625.5,-212.5 625.5,-212.5 625.5,-241.5 625.5,-241.5 625.5,-247.5 619.5,-253.5 613.5,-253.5\"/>\n<text text-anchor=\"middle\" x=\"572\" y=\"-238.3\" font-family=\"Helvetica,sans-Serif\" font-size=\"14.00\" fill=\"#000000\">gini = 0.2</text>\n<text text-anchor=\"middle\" x=\"572\" y=\"-223.3\" font-family=\"Helvetica,sans-Serif\" font-size=\"14.00\" fill=\"#000000\">samples = 14</text>\n<text text-anchor=\"middle\" x=\"572\" y=\"-208.3\" font-family=\"Helvetica,sans-Serif\" font-size=\"14.00\" fill=\"#000000\">value = [3, 22]</text>\n</g>\n<!-- 17&#45;&gt;18 -->\n<g id=\"edge18\" class=\"edge\">\n<title>17&#45;&gt;18</title>\n<path fill=\"none\" stroke=\"#000000\" d=\"M572,-296.9465C572,-286.2621 572,-274.4254 572,-263.5742\"/>\n<polygon fill=\"#000000\" stroke=\"#000000\" points=\"575.5001,-263.5421 572,-253.5422 568.5001,-263.5422 575.5001,-263.5421\"/>\n</g>\n<!-- 19 -->\n<g id=\"node20\" class=\"node\">\n<title>19</title>\n<path fill=\"none\" stroke=\"#000000\" d=\"M738.5,-253.5C738.5,-253.5 655.5,-253.5 655.5,-253.5 649.5,-253.5 643.5,-247.5 643.5,-241.5 643.5,-241.5 643.5,-212.5 643.5,-212.5 643.5,-206.5 649.5,-200.5 655.5,-200.5 655.5,-200.5 738.5,-200.5 738.5,-200.5 744.5,-200.5 750.5,-206.5 750.5,-212.5 750.5,-212.5 750.5,-241.5 750.5,-241.5 750.5,-247.5 744.5,-253.5 738.5,-253.5\"/>\n<text text-anchor=\"middle\" x=\"697\" y=\"-238.3\" font-family=\"Helvetica,sans-Serif\" font-size=\"14.00\" fill=\"#000000\">gini = 0.4</text>\n<text text-anchor=\"middle\" x=\"697\" y=\"-223.3\" font-family=\"Helvetica,sans-Serif\" font-size=\"14.00\" fill=\"#000000\">samples = 10</text>\n<text text-anchor=\"middle\" x=\"697\" y=\"-208.3\" font-family=\"Helvetica,sans-Serif\" font-size=\"14.00\" fill=\"#000000\">value = [5, 10]</text>\n</g>\n<!-- 17&#45;&gt;19 -->\n<g id=\"edge19\" class=\"edge\">\n<title>17&#45;&gt;19</title>\n<path fill=\"none\" stroke=\"#000000\" d=\"M612.9297,-296.9465C627.0955,-285.1606 642.9463,-271.9726 657.0338,-260.2519\"/>\n<polygon fill=\"#000000\" stroke=\"#000000\" points=\"659.6496,-262.6285 665.0984,-253.5422 655.1725,-257.2474 659.6496,-262.6285\"/>\n</g>\n</g>\n</svg>\n"
          },
          "metadata": {
            "tags": []
          },
          "execution_count": 68
        }
      ]
    },
    {
      "cell_type": "markdown",
      "metadata": {
        "id": "o7VKXMBTb0nC"
      },
      "source": [
        "# Saving Model"
      ]
    },
    {
      "cell_type": "code",
      "metadata": {
        "id": "XL35leRk6M17"
      },
      "source": [
        "# Exporting model\n",
        "import pickle\n",
        "pickle.dump(dtc,open('model.pkl','wb'))"
      ],
      "execution_count": 69,
      "outputs": []
    },
    {
      "cell_type": "code",
      "metadata": {
        "id": "D-OddvcF6M19",
        "outputId": "d4fcbcba-cb9e-4c25-bff2-4155b0dafd9d",
        "colab": {
          "base_uri": "https://localhost:8080/",
          "height": 34
        }
      },
      "source": [
        "# Import & Predict\n",
        "model=pickle.load(open('model.pkl','rb'))\n",
        "model.predict(sc.fit_transform([[1,34,1900]]))"
      ],
      "execution_count": 70,
      "outputs": [
        {
          "output_type": "execute_result",
          "data": {
            "text/plain": [
              "array([1])"
            ]
          },
          "metadata": {
            "tags": []
          },
          "execution_count": 70
        }
      ]
    },
    {
      "cell_type": "markdown",
      "metadata": {
        "id": "gEujkLi4fXdJ"
      },
      "source": [
        "**Where 0 is Not Purchased** \n",
        "\n",
        "**And 1 is Purchased**"
      ]
    },
    {
      "cell_type": "markdown",
      "metadata": {
        "id": "mKMKcTMHfJdh"
      },
      "source": [
        "## Let's Deploy our model!\n",
        "\n",
        "We technically need a server to deploy our application but what we are using is also a server! YES a free VM provided by Google; \n",
        "\n",
        "So, What we can do is expose it to a public URL using ngrok and make API for our model using FLASK."
      ]
    },
    {
      "cell_type": "code",
      "metadata": {
        "id": "IFa40IBheiBU",
        "outputId": "0f9491be-5a35-41f6-8a75-7ebf1128c09d",
        "colab": {
          "base_uri": "https://localhost:8080/",
          "height": 269
        }
      },
      "source": [
        "!pip install flask-ngrok"
      ],
      "execution_count": 71,
      "outputs": [
        {
          "output_type": "stream",
          "text": [
            "Collecting flask-ngrok\n",
            "  Downloading https://files.pythonhosted.org/packages/af/6c/f54cb686ad1129e27d125d182f90f52b32f284e6c8df58c1bae54fa1adbc/flask_ngrok-0.0.25-py3-none-any.whl\n",
            "Requirement already satisfied: Flask>=0.8 in /usr/local/lib/python3.6/dist-packages (from flask-ngrok) (1.1.2)\n",
            "Requirement already satisfied: requests in /usr/local/lib/python3.6/dist-packages (from flask-ngrok) (2.23.0)\n",
            "Requirement already satisfied: click>=5.1 in /usr/local/lib/python3.6/dist-packages (from Flask>=0.8->flask-ngrok) (7.1.2)\n",
            "Requirement already satisfied: itsdangerous>=0.24 in /usr/local/lib/python3.6/dist-packages (from Flask>=0.8->flask-ngrok) (1.1.0)\n",
            "Requirement already satisfied: Werkzeug>=0.15 in /usr/local/lib/python3.6/dist-packages (from Flask>=0.8->flask-ngrok) (1.0.1)\n",
            "Requirement already satisfied: Jinja2>=2.10.1 in /usr/local/lib/python3.6/dist-packages (from Flask>=0.8->flask-ngrok) (2.11.2)\n",
            "Requirement already satisfied: idna<3,>=2.5 in /usr/local/lib/python3.6/dist-packages (from requests->flask-ngrok) (2.10)\n",
            "Requirement already satisfied: certifi>=2017.4.17 in /usr/local/lib/python3.6/dist-packages (from requests->flask-ngrok) (2020.6.20)\n",
            "Requirement already satisfied: chardet<4,>=3.0.2 in /usr/local/lib/python3.6/dist-packages (from requests->flask-ngrok) (3.0.4)\n",
            "Requirement already satisfied: urllib3!=1.25.0,!=1.25.1,<1.26,>=1.21.1 in /usr/local/lib/python3.6/dist-packages (from requests->flask-ngrok) (1.24.3)\n",
            "Requirement already satisfied: MarkupSafe>=0.23 in /usr/local/lib/python3.6/dist-packages (from Jinja2>=2.10.1->Flask>=0.8->flask-ngrok) (1.1.1)\n",
            "Installing collected packages: flask-ngrok\n",
            "Successfully installed flask-ngrok-0.0.25\n"
          ],
          "name": "stdout"
        }
      ]
    },
    {
      "cell_type": "code",
      "metadata": {
        "id": "HHBaot3afl1m",
        "outputId": "3718babc-f7f1-417b-8289-77efa013d4bd",
        "colab": {
          "base_uri": "https://localhost:8080/",
          "height": 168
        }
      },
      "source": [
        "from flask import Flask, jsonify, make_response, request\n",
        "from flask_ngrok import run_with_ngrok\n",
        "\n",
        "app = Flask(__name__)\n",
        "run_with_ngrok(app)\n",
        "\n",
        "@app.route(\"/\")\n",
        "def putStatus():\n",
        "    return \"Status: Running and Active...\"\n",
        "\n",
        "@app.route('/predict',methods=['POST'])\n",
        "def getPredictions():\n",
        "  data = request.get_json(force=True)\n",
        "  gender = str(data['Gender'])\n",
        "  age = str(data['Age'])\n",
        "  sal = str(data['Salary'])\n",
        "  test = np.array([[gender,age,sal]])\n",
        "  model=pickle.load(open('model.pkl','rb'))\n",
        "  prediction = model.predict(test)\n",
        "  output = prediction[0]\n",
        "  if (output == 0):\n",
        "    return \"He/She's not gonna purchase it!\"\n",
        "  else :\n",
        "    return \"He/She's gonna purchase it!\"\n",
        "app.run()"
      ],
      "execution_count": 72,
      "outputs": [
        {
          "output_type": "stream",
          "text": [
            " * Serving Flask app \"__main__\" (lazy loading)\n",
            " * Environment: production\n",
            "\u001b[31m   WARNING: This is a development server. Do not use it in a production deployment.\u001b[0m\n",
            "\u001b[2m   Use a production WSGI server instead.\u001b[0m\n",
            " * Debug mode: off\n"
          ],
          "name": "stdout"
        },
        {
          "output_type": "stream",
          "text": [
            " * Running on http://127.0.0.1:5000/ (Press CTRL+C to quit)\n"
          ],
          "name": "stderr"
        },
        {
          "output_type": "stream",
          "text": [
            " * Running on http://7adbf321f618.ngrok.io\n",
            " * Traffic stats available on http://127.0.0.1:4040\n"
          ],
          "name": "stdout"
        },
        {
          "output_type": "stream",
          "text": [
            "127.0.0.1 - - [26/Sep/2020 13:03:23] \"\u001b[37mPOST /predict HTTP/1.1\u001b[0m\" 200 -\n"
          ],
          "name": "stderr"
        }
      ]
    },
    {
      "cell_type": "markdown",
      "metadata": {
        "id": "cJfY5fA7f-Vh"
      },
      "source": [
        "## Open New Colab Window -> file -> New Notebook"
      ]
    },
    {
      "cell_type": "code",
      "metadata": {
        "id": "7qAjLJP5gUPM"
      },
      "source": [
        "#paste this code there\n",
        "\n",
        "import requests, json\n",
        "\n",
        "url = '[replace this with URL above]/predict'\n",
        "req = requests.post(url, json={'Age':30, 'Salary':150000})\n",
        "\n",
        "print(req.status_code)\n",
        "print(req.text)"
      ],
      "execution_count": null,
      "outputs": []
    },
    {
      "cell_type": "markdown",
      "metadata": {
        "id": "Zh1mIN_EfGkA"
      },
      "source": [
        "@Author [Ali Mustufa](https://www.iali.dev) "
      ]
    }
  ]
}